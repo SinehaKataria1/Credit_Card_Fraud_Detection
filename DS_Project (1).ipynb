{
  "nbformat": 4,
  "nbformat_minor": 0,
  "metadata": {
    "colab": {
      "provenance": []
    },
    "kernelspec": {
      "name": "python3",
      "display_name": "Python 3"
    },
    "language_info": {
      "name": "python"
    }
  },
  "cells": [
    {
      "cell_type": "code",
      "execution_count": null,
      "metadata": {
        "id": "1GVxCa1R9uOb"
      },
      "outputs": [],
      "source": [
        "import pandas as pd\n",
        "import seaborn as sns\n",
        "import numpy as np\n",
        "import matplotlib.pyplot as plt\n",
        "from sklearn.model_selection import train_test_split\n",
        "from sklearn.linear_model import LogisticRegression\n",
        "from sklearn.metrics import accuracy_score,confusion_matrix,classification_report\n",
        "from sklearn.naive_bayes import GaussianNB\n",
        "from sklearn.tree import DecisionTreeClassifier\n",
        "from sklearn.neighbors import KNeighborsClassifier\n",
        "from sklearn.svm import SVC"
      ]
    },
    {
      "cell_type": "code",
      "source": [
        "pip install streamlit"
      ],
      "metadata": {
        "colab": {
          "base_uri": "https://localhost:8080/"
        },
        "id": "zLFOP89OuKct",
        "outputId": "c4c82e19-743a-4a52-d613-1a53c724a449"
      },
      "execution_count": null,
      "outputs": [
        {
          "output_type": "stream",
          "name": "stdout",
          "text": [
            "Collecting streamlit\n",
            "  Downloading streamlit-1.29.0-py2.py3-none-any.whl (8.4 MB)\n",
            "\u001b[2K     \u001b[90m━━━━━━━━━━━━━━━━━━━━━━━━━━━━━━━━━━━━━━━━\u001b[0m \u001b[32m8.4/8.4 MB\u001b[0m \u001b[31m21.5 MB/s\u001b[0m eta \u001b[36m0:00:00\u001b[0m\n",
            "\u001b[?25hRequirement already satisfied: altair<6,>=4.0 in /usr/local/lib/python3.10/dist-packages (from streamlit) (4.2.2)\n",
            "Requirement already satisfied: blinker<2,>=1.0.0 in /usr/lib/python3/dist-packages (from streamlit) (1.4)\n",
            "Requirement already satisfied: cachetools<6,>=4.0 in /usr/local/lib/python3.10/dist-packages (from streamlit) (5.3.2)\n",
            "Requirement already satisfied: click<9,>=7.0 in /usr/local/lib/python3.10/dist-packages (from streamlit) (8.1.7)\n",
            "Requirement already satisfied: importlib-metadata<7,>=1.4 in /usr/local/lib/python3.10/dist-packages (from streamlit) (6.8.0)\n",
            "Requirement already satisfied: numpy<2,>=1.19.3 in /usr/local/lib/python3.10/dist-packages (from streamlit) (1.23.5)\n",
            "Requirement already satisfied: packaging<24,>=16.8 in /usr/local/lib/python3.10/dist-packages (from streamlit) (23.2)\n",
            "Requirement already satisfied: pandas<3,>=1.3.0 in /usr/local/lib/python3.10/dist-packages (from streamlit) (1.5.3)\n",
            "Requirement already satisfied: pillow<11,>=7.1.0 in /usr/local/lib/python3.10/dist-packages (from streamlit) (9.4.0)\n",
            "Requirement already satisfied: protobuf<5,>=3.20 in /usr/local/lib/python3.10/dist-packages (from streamlit) (3.20.3)\n",
            "Requirement already satisfied: pyarrow>=6.0 in /usr/local/lib/python3.10/dist-packages (from streamlit) (9.0.0)\n",
            "Requirement already satisfied: python-dateutil<3,>=2.7.3 in /usr/local/lib/python3.10/dist-packages (from streamlit) (2.8.2)\n",
            "Requirement already satisfied: requests<3,>=2.27 in /usr/local/lib/python3.10/dist-packages (from streamlit) (2.31.0)\n",
            "Requirement already satisfied: rich<14,>=10.14.0 in /usr/local/lib/python3.10/dist-packages (from streamlit) (13.7.0)\n",
            "Requirement already satisfied: tenacity<9,>=8.1.0 in /usr/local/lib/python3.10/dist-packages (from streamlit) (8.2.3)\n",
            "Requirement already satisfied: toml<2,>=0.10.1 in /usr/local/lib/python3.10/dist-packages (from streamlit) (0.10.2)\n",
            "Requirement already satisfied: typing-extensions<5,>=4.3.0 in /usr/local/lib/python3.10/dist-packages (from streamlit) (4.5.0)\n",
            "Requirement already satisfied: tzlocal<6,>=1.1 in /usr/local/lib/python3.10/dist-packages (from streamlit) (5.2)\n",
            "Collecting validators<1,>=0.2 (from streamlit)\n",
            "  Downloading validators-0.22.0-py3-none-any.whl (26 kB)\n",
            "Collecting gitpython!=3.1.19,<4,>=3.0.7 (from streamlit)\n",
            "  Downloading GitPython-3.1.40-py3-none-any.whl (190 kB)\n",
            "\u001b[2K     \u001b[90m━━━━━━━━━━━━━━━━━━━━━━━━━━━━━━━━━━━━━━━━\u001b[0m \u001b[32m190.6/190.6 kB\u001b[0m \u001b[31m6.2 MB/s\u001b[0m eta \u001b[36m0:00:00\u001b[0m\n",
            "\u001b[?25hCollecting pydeck<1,>=0.8.0b4 (from streamlit)\n",
            "  Downloading pydeck-0.8.1b0-py2.py3-none-any.whl (4.8 MB)\n",
            "\u001b[2K     \u001b[90m━━━━━━━━━━━━━━━━━━━━━━━━━━━━━━━━━━━━━━━━\u001b[0m \u001b[32m4.8/4.8 MB\u001b[0m \u001b[31m15.8 MB/s\u001b[0m eta \u001b[36m0:00:00\u001b[0m\n",
            "\u001b[?25hRequirement already satisfied: tornado<7,>=6.0.3 in /usr/local/lib/python3.10/dist-packages (from streamlit) (6.3.2)\n",
            "Collecting watchdog>=2.1.5 (from streamlit)\n",
            "  Downloading watchdog-3.0.0-py3-none-manylinux2014_x86_64.whl (82 kB)\n",
            "\u001b[2K     \u001b[90m━━━━━━━━━━━━━━━━━━━━━━━━━━━━━━━━━━━━━━━━\u001b[0m \u001b[32m82.1/82.1 kB\u001b[0m \u001b[31m3.7 MB/s\u001b[0m eta \u001b[36m0:00:00\u001b[0m\n",
            "\u001b[?25hRequirement already satisfied: entrypoints in /usr/local/lib/python3.10/dist-packages (from altair<6,>=4.0->streamlit) (0.4)\n",
            "Requirement already satisfied: jinja2 in /usr/local/lib/python3.10/dist-packages (from altair<6,>=4.0->streamlit) (3.1.2)\n",
            "Requirement already satisfied: jsonschema>=3.0 in /usr/local/lib/python3.10/dist-packages (from altair<6,>=4.0->streamlit) (4.19.2)\n",
            "Requirement already satisfied: toolz in /usr/local/lib/python3.10/dist-packages (from altair<6,>=4.0->streamlit) (0.12.0)\n",
            "Collecting gitdb<5,>=4.0.1 (from gitpython!=3.1.19,<4,>=3.0.7->streamlit)\n",
            "  Downloading gitdb-4.0.11-py3-none-any.whl (62 kB)\n",
            "\u001b[2K     \u001b[90m━━━━━━━━━━━━━━━━━━━━━━━━━━━━━━━━━━━━━━━━\u001b[0m \u001b[32m62.7/62.7 kB\u001b[0m \u001b[31m4.4 MB/s\u001b[0m eta \u001b[36m0:00:00\u001b[0m\n",
            "\u001b[?25hRequirement already satisfied: zipp>=0.5 in /usr/local/lib/python3.10/dist-packages (from importlib-metadata<7,>=1.4->streamlit) (3.17.0)\n",
            "Requirement already satisfied: pytz>=2020.1 in /usr/local/lib/python3.10/dist-packages (from pandas<3,>=1.3.0->streamlit) (2023.3.post1)\n",
            "Requirement already satisfied: six>=1.5 in /usr/local/lib/python3.10/dist-packages (from python-dateutil<3,>=2.7.3->streamlit) (1.16.0)\n",
            "Requirement already satisfied: charset-normalizer<4,>=2 in /usr/local/lib/python3.10/dist-packages (from requests<3,>=2.27->streamlit) (3.3.2)\n",
            "Requirement already satisfied: idna<4,>=2.5 in /usr/local/lib/python3.10/dist-packages (from requests<3,>=2.27->streamlit) (3.4)\n",
            "Requirement already satisfied: urllib3<3,>=1.21.1 in /usr/local/lib/python3.10/dist-packages (from requests<3,>=2.27->streamlit) (2.0.7)\n",
            "Requirement already satisfied: certifi>=2017.4.17 in /usr/local/lib/python3.10/dist-packages (from requests<3,>=2.27->streamlit) (2023.7.22)\n",
            "Requirement already satisfied: markdown-it-py>=2.2.0 in /usr/local/lib/python3.10/dist-packages (from rich<14,>=10.14.0->streamlit) (3.0.0)\n",
            "Requirement already satisfied: pygments<3.0.0,>=2.13.0 in /usr/local/lib/python3.10/dist-packages (from rich<14,>=10.14.0->streamlit) (2.16.1)\n",
            "Collecting smmap<6,>=3.0.1 (from gitdb<5,>=4.0.1->gitpython!=3.1.19,<4,>=3.0.7->streamlit)\n",
            "  Downloading smmap-5.0.1-py3-none-any.whl (24 kB)\n",
            "Requirement already satisfied: MarkupSafe>=2.0 in /usr/local/lib/python3.10/dist-packages (from jinja2->altair<6,>=4.0->streamlit) (2.1.3)\n",
            "Requirement already satisfied: attrs>=22.2.0 in /usr/local/lib/python3.10/dist-packages (from jsonschema>=3.0->altair<6,>=4.0->streamlit) (23.1.0)\n",
            "Requirement already satisfied: jsonschema-specifications>=2023.03.6 in /usr/local/lib/python3.10/dist-packages (from jsonschema>=3.0->altair<6,>=4.0->streamlit) (2023.11.1)\n",
            "Requirement already satisfied: referencing>=0.28.4 in /usr/local/lib/python3.10/dist-packages (from jsonschema>=3.0->altair<6,>=4.0->streamlit) (0.31.0)\n",
            "Requirement already satisfied: rpds-py>=0.7.1 in /usr/local/lib/python3.10/dist-packages (from jsonschema>=3.0->altair<6,>=4.0->streamlit) (0.13.0)\n",
            "Requirement already satisfied: mdurl~=0.1 in /usr/local/lib/python3.10/dist-packages (from markdown-it-py>=2.2.0->rich<14,>=10.14.0->streamlit) (0.1.2)\n",
            "Installing collected packages: watchdog, validators, smmap, pydeck, gitdb, gitpython, streamlit\n",
            "Successfully installed gitdb-4.0.11 gitpython-3.1.40 pydeck-0.8.1b0 smmap-5.0.1 streamlit-1.29.0 validators-0.22.0 watchdog-3.0.0\n"
          ]
        }
      ]
    },
    {
      "cell_type": "code",
      "source": [
        "from google.colab import drive\n",
        "drive.mount(\"/content/drive\")\n"
      ],
      "metadata": {
        "colab": {
          "base_uri": "https://localhost:8080/"
        },
        "id": "DfJWAeA6A--W",
        "outputId": "a02b0dbb-0580-49e7-fc33-c401df13ef03"
      },
      "execution_count": null,
      "outputs": [
        {
          "output_type": "stream",
          "name": "stdout",
          "text": [
            "Mounted at /content/drive\n"
          ]
        }
      ]
    },
    {
      "cell_type": "code",
      "source": [
        "Credit_Data=pd.read_csv(\"/content/drive/My Drive/Datascience_Project/creditcard_2023.csv\")\n",
        "Credit_Data.shape"
      ],
      "metadata": {
        "colab": {
          "base_uri": "https://localhost:8080/"
        },
        "id": "Ha_oCkUkBlCu",
        "outputId": "546150f4-27e6-48b5-8c41-7b73bdf99c76"
      },
      "execution_count": null,
      "outputs": [
        {
          "output_type": "execute_result",
          "data": {
            "text/plain": [
              "(568630, 31)"
            ]
          },
          "metadata": {},
          "execution_count": 3
        }
      ]
    },
    {
      "cell_type": "code",
      "source": [
        "Credit_Data.info()"
      ],
      "metadata": {
        "id": "hNOucbuhHsid"
      },
      "execution_count": null,
      "outputs": []
    },
    {
      "cell_type": "code",
      "source": [
        "Credit_Data[\"Class\"].value_counts()"
      ],
      "metadata": {
        "id": "m2_RUKvzH2JJ"
      },
      "execution_count": null,
      "outputs": []
    },
    {
      "cell_type": "code",
      "source": [
        "Credit_Data.tail()"
      ],
      "metadata": {
        "id": "XKmx2iWtDpPG"
      },
      "execution_count": null,
      "outputs": []
    },
    {
      "cell_type": "code",
      "source": [
        "Fraud_Data=Credit_Data.loc[Credit_Data['Class']==1]\n",
        "NonFraud_Data=Credit_Data.loc[Credit_Data['Class']==0]"
      ],
      "metadata": {
        "id": "HrIauiYkD9ID"
      },
      "execution_count": null,
      "outputs": []
    },
    {
      "cell_type": "code",
      "source": [
        "print(\"Total records of Fraud:\",len(Fraud_Data))\n",
        "print(\"Total records of Non Fraudulent:\",len(NonFraud_Data))"
      ],
      "metadata": {
        "colab": {
          "base_uri": "https://localhost:8080/"
        },
        "id": "CxLpST4DEp7W",
        "outputId": "9b424917-1ede-4dd3-f40b-bb12b91b1e51"
      },
      "execution_count": null,
      "outputs": [
        {
          "output_type": "stream",
          "name": "stdout",
          "text": [
            "Total records of Fraud: 284315\n",
            "Total records of Non Fraudulent: 284315\n"
          ]
        }
      ]
    },
    {
      "cell_type": "code",
      "source": [
        "#sns.relplot(x=\"Amount\",y=\"id\",hue=\"Class\",data=Credit_Data)\n",
        "XData=Credit_Data.drop(['Class'],axis=1)\n",
        "YData=Credit_Data['Class']\n",
        "print(XData.shape)\n",
        "print(YData.shape)"
      ],
      "metadata": {
        "colab": {
          "base_uri": "https://localhost:8080/"
        },
        "id": "qFuu6gctEwS-",
        "outputId": "8546a7e9-1246-461e-8d22-c2e604e3a7f5"
      },
      "execution_count": null,
      "outputs": [
        {
          "output_type": "stream",
          "name": "stdout",
          "text": [
            "(568630, 30)\n",
            "(568630,)\n"
          ]
        }
      ]
    },
    {
      "cell_type": "code",
      "source": [
        "X=XData.values\n",
        "Y=YData.values"
      ],
      "metadata": {
        "id": "1ZA4gz01Fqt8"
      },
      "execution_count": null,
      "outputs": []
    },
    {
      "cell_type": "code",
      "source": [
        "x_train, x_test, y_train, y_test = train_test_split(\n",
        "    X, Y, test_size=0.33, random_state=125\n",
        ")"
      ],
      "metadata": {
        "id": "iCTs_29fdCKz"
      },
      "execution_count": null,
      "outputs": []
    },
    {
      "cell_type": "code",
      "source": [
        "#Logistic_Regression\n",
        "LR_Model=LogisticRegression()\n",
        "LR_Model.fit(x_train,y_train)"
      ],
      "metadata": {
        "id": "XezLUPp7dNK-"
      },
      "execution_count": null,
      "outputs": []
    },
    {
      "cell_type": "code",
      "source": [
        "y_predict_Lr=LR_Model.predict(x_test)"
      ],
      "metadata": {
        "id": "jldOg9DjitVi"
      },
      "execution_count": null,
      "outputs": []
    },
    {
      "cell_type": "code",
      "source": [
        "print(y_predict_Lr)"
      ],
      "metadata": {
        "colab": {
          "base_uri": "https://localhost:8080/"
        },
        "id": "XAvCdsEJjDUT",
        "outputId": "dbc46902-a4b5-4e95-bb3b-af318271a5c0"
      },
      "execution_count": null,
      "outputs": [
        {
          "output_type": "stream",
          "name": "stdout",
          "text": [
            "[0. 0. 1. ... 0. 0. 0.]\n"
          ]
        }
      ]
    },
    {
      "cell_type": "code",
      "source": [
        "# Calculate Accuracy\n",
        "accuracy_Lr=accuracy_score(y_test,y_predict_Lr)\n",
        "print(\"Accurracy score:{}\".format(accuracy_Lr*100))"
      ],
      "metadata": {
        "colab": {
          "base_uri": "https://localhost:8080/"
        },
        "id": "4MMNdOkhjRWD",
        "outputId": "d4bf15e6-b5bb-4d64-fbb3-da1410520586"
      },
      "execution_count": null,
      "outputs": [
        {
          "output_type": "stream",
          "name": "stdout",
          "text": [
            "Accurracy score:99.74047152114598\n"
          ]
        }
      ]
    },
    {
      "cell_type": "code",
      "source": [
        "# Calculate confusion matrix\n",
        "confusion_matrix_Lr = confusion_matrix(y_test, y_predict_Lr)\n",
        "print(\"confusion_matrix:\\n\",confusion_matrix_Lr)"
      ],
      "metadata": {
        "colab": {
          "base_uri": "https://localhost:8080/"
        },
        "id": "d1hLrIXZkQ1f",
        "outputId": "bcb00a8a-0dfb-4c59-976c-bc42b21077d3"
      },
      "execution_count": null,
      "outputs": [
        {
          "output_type": "stream",
          "name": "stdout",
          "text": [
            "confusion_matrix:\n",
            " [[93818   117]\n",
            " [  370 93343]]\n"
          ]
        }
      ]
    },
    {
      "cell_type": "code",
      "source": [
        "#Calculate Classification Report\n",
        "print(\"Classification Report: \\n \", classification_report(y_test,y_predict_Lr))"
      ],
      "metadata": {
        "colab": {
          "base_uri": "https://localhost:8080/"
        },
        "id": "0rOak64Plu2l",
        "outputId": "7c92c742-a5f8-4563-9821-7006554bf383"
      },
      "execution_count": null,
      "outputs": [
        {
          "output_type": "stream",
          "name": "stdout",
          "text": [
            "Classification Report: \n",
            "                precision    recall  f1-score   support\n",
            "\n",
            "         0.0       1.00      1.00      1.00     93935\n",
            "         1.0       1.00      1.00      1.00     93713\n",
            "\n",
            "    accuracy                           1.00    187648\n",
            "   macro avg       1.00      1.00      1.00    187648\n",
            "weighted avg       1.00      1.00      1.00    187648\n",
            "\n"
          ]
        }
      ]
    },
    {
      "cell_type": "code",
      "source": [
        "#NAIVE BAYES CLASSIFIER\n",
        "Naive_Model=GaussianNB()\n",
        "Naive_Model.fit(x_train,y_train)\n",
        "y_predict_NB=Naive_Model.predict(x_test)\n",
        "print(\"Y_Predict:\\n\",y_predict_NB)"
      ],
      "metadata": {
        "colab": {
          "base_uri": "https://localhost:8080/"
        },
        "id": "ZCRRpek2mHHa",
        "outputId": "64ce08ec-f326-46a4-b26b-1ef0ceab1d6a"
      },
      "execution_count": null,
      "outputs": [
        {
          "output_type": "stream",
          "name": "stdout",
          "text": [
            "Y_Predict:\n",
            " [0. 0. 1. ... 0. 0. 0.]\n"
          ]
        }
      ]
    },
    {
      "cell_type": "code",
      "source": [
        "#Accuracy\n",
        "Accuracy_NB=accuracy_score(y_test,y_predict_NB)\n",
        "print(\"Accurracy score:{}\".format(Accuracy_NB*100))"
      ],
      "metadata": {
        "colab": {
          "base_uri": "https://localhost:8080/"
        },
        "id": "QY13H_hnp6SQ",
        "outputId": "23aaef0d-aacc-4e55-a657-d5b3588dab8b"
      },
      "execution_count": null,
      "outputs": [
        {
          "output_type": "stream",
          "name": "stdout",
          "text": [
            "Accurracy score:82.48315995907231\n"
          ]
        }
      ]
    },
    {
      "cell_type": "code",
      "source": [
        "# Calculate confusion matrix\n",
        "confusion_matrix_NB = confusion_matrix(y_test, y_predict_NB)\n",
        "print(\"confusion_matrix:\\n\",confusion_matrix_NB)"
      ],
      "metadata": {
        "colab": {
          "base_uri": "https://localhost:8080/"
        },
        "id": "nwEA8SFPs_Tn",
        "outputId": "dd92e4be-1db3-4825-862a-e7257794a9ba"
      },
      "execution_count": null,
      "outputs": [
        {
          "output_type": "stream",
          "name": "stdout",
          "text": [
            "confusion_matrix:\n",
            " [[93816   119]\n",
            " [32751 60962]]\n"
          ]
        }
      ]
    },
    {
      "cell_type": "code",
      "source": [
        "#Calculate Classification Report\n",
        "print(\"Classification Report: \\n \", classification_report(y_test,y_predict_NB))"
      ],
      "metadata": {
        "colab": {
          "base_uri": "https://localhost:8080/"
        },
        "id": "v_RPQaeXtRCz",
        "outputId": "2ca45662-5193-4b0b-e046-a378d3ed0c56"
      },
      "execution_count": null,
      "outputs": [
        {
          "output_type": "stream",
          "name": "stdout",
          "text": [
            "Classification Report: \n",
            "                precision    recall  f1-score   support\n",
            "\n",
            "         0.0       0.74      1.00      0.85     93935\n",
            "         1.0       1.00      0.65      0.79     93713\n",
            "\n",
            "    accuracy                           0.82    187648\n",
            "   macro avg       0.87      0.82      0.82    187648\n",
            "weighted avg       0.87      0.82      0.82    187648\n",
            "\n"
          ]
        }
      ]
    },
    {
      "cell_type": "code",
      "source": [
        "#Decision Tree Classifier\n",
        "DT_Model=DecisionTreeClassifier()\n",
        "DT_Model.fit(x_train,y_train)\n",
        "y_predict_DT=DT_Model.predict(x_test)\n",
        "print(\"Y_Predict: \",y_predict_NB)"
      ],
      "metadata": {
        "colab": {
          "base_uri": "https://localhost:8080/"
        },
        "id": "ftW2lLL7tZHN",
        "outputId": "f8a3d0e9-c948-4f77-ad22-c0780dfcf340"
      },
      "execution_count": null,
      "outputs": [
        {
          "output_type": "stream",
          "name": "stdout",
          "text": [
            "Y_Predict:  [0. 0. 1. ... 0. 0. 0.]\n"
          ]
        }
      ]
    },
    {
      "cell_type": "code",
      "source": [
        "#Calculate Accuracy\n",
        "accuracy_DT=accuracy_score(y_test,y_predict_DT)\n",
        "print(\"Accurracy score:{}\".format(accuracy_DT*100))"
      ],
      "metadata": {
        "colab": {
          "base_uri": "https://localhost:8080/"
        },
        "id": "oJ2LSvpIuJ6M",
        "outputId": "c081cae1-fe64-4dba-e99c-2abe507e7c00"
      },
      "execution_count": null,
      "outputs": [
        {
          "output_type": "stream",
          "name": "stdout",
          "text": [
            "Accurracy score:99.95843281036835\n"
          ]
        }
      ]
    },
    {
      "cell_type": "code",
      "source": [
        "# Calculate confusion matrix\n",
        "confusion_matrix_DT = confusion_matrix(y_test, y_predict_DT)\n",
        "print(\"confusion_matrix:\\n\",confusion_matrix_DT)"
      ],
      "metadata": {
        "colab": {
          "base_uri": "https://localhost:8080/"
        },
        "id": "RDfbYfsIupVk",
        "outputId": "87bd6c53-bc7a-49a4-93cd-10b29d7826e6"
      },
      "execution_count": null,
      "outputs": [
        {
          "output_type": "stream",
          "name": "stdout",
          "text": [
            "confusion_matrix:\n",
            " [[93893    42]\n",
            " [   36 93677]]\n"
          ]
        }
      ]
    },
    {
      "cell_type": "code",
      "source": [
        "#Calculate Classification Report\n",
        "print(\"Classification Report: \\n \", classification_report(y_test,y_predict_DT))"
      ],
      "metadata": {
        "colab": {
          "base_uri": "https://localhost:8080/"
        },
        "id": "1-D4YxQKu01U",
        "outputId": "feb224c9-fa18-471b-b7a1-b3c3e41587cb"
      },
      "execution_count": null,
      "outputs": [
        {
          "output_type": "stream",
          "name": "stdout",
          "text": [
            "Classification Report: \n",
            "                precision    recall  f1-score   support\n",
            "\n",
            "         0.0       1.00      1.00      1.00     93935\n",
            "         1.0       1.00      1.00      1.00     93713\n",
            "\n",
            "    accuracy                           1.00    187648\n",
            "   macro avg       1.00      1.00      1.00    187648\n",
            "weighted avg       1.00      1.00      1.00    187648\n",
            "\n"
          ]
        }
      ]
    },
    {
      "cell_type": "code",
      "source": [
        "#KNeighborsClassifier\n",
        "knn_model = KNeighborsClassifier(n_neighbors=25)\n",
        "knn_model.fit(x_train, y_train)"
      ],
      "metadata": {
        "id": "FYMK3y5k0Z9L"
      },
      "execution_count": null,
      "outputs": []
    },
    {
      "cell_type": "code",
      "source": [
        "y_predict_knn = knn_model.predict(x_test)\n",
        "print(\"Y_Predict: \",y_predict_knn)"
      ],
      "metadata": {
        "id": "YY2vZersxXyL"
      },
      "execution_count": null,
      "outputs": []
    },
    {
      "cell_type": "code",
      "source": [
        "#Calculate Acurracy\n",
        "Accuracy_knn=accuracy_score(y_test,y_predict_knn)\n",
        "print(\"Accuracy:{}\".format(Accuracy_knn*100))"
      ],
      "metadata": {
        "id": "lVIui3Wp6NAF"
      },
      "execution_count": null,
      "outputs": []
    },
    {
      "cell_type": "code",
      "source": [
        "#Confusion Matrix\n",
        "confusionMatric_knn=confusion_matrix(y_test,y_predict_knn)\n",
        "print(\"confusion_matrix:\\n\",confusionMatric_knn)"
      ],
      "metadata": {
        "id": "tZGVgtWt6hfw"
      },
      "execution_count": null,
      "outputs": []
    },
    {
      "cell_type": "code",
      "source": [
        "#Calculate Classification Report\n",
        "print(\"Classification Report: \\n \", classification_report(y_test,y_predict_knn))"
      ],
      "metadata": {
        "id": "yTFdnDMO7Bf6"
      },
      "execution_count": null,
      "outputs": []
    },
    {
      "cell_type": "code",
      "source": [
        "#Support Vector Machine Algorithm\n",
        "SVM_Model =SVC(kernel='linear')\n",
        "SVM_Model.fit(x_train,y_train)\n",
        "y_predict_svm=SVM_Model.predict(x_test)"
      ],
      "metadata": {
        "id": "-b9UxoBcA_tX"
      },
      "execution_count": null,
      "outputs": []
    },
    {
      "cell_type": "code",
      "source": [
        "#Calculate Acurracy\n",
        "accuracy_svm=accuracy_score(y_test,y_predict_svm)\n",
        "print(\"Accuracy:{}\".format(accuracy_svm*100))"
      ],
      "metadata": {
        "id": "JZ4Ztk7-zSLG"
      },
      "execution_count": null,
      "outputs": []
    },
    {
      "cell_type": "code",
      "source": [
        "#Confusion Matrix\n",
        "confusionMatric_svm=confusion_matrix(y_test,y_predict_svm)\n",
        "print(\"confusion_matrix:\\n\",confusionMatric_svm)"
      ],
      "metadata": {
        "id": "7FIHNiYl8JDZ"
      },
      "execution_count": null,
      "outputs": []
    },
    {
      "cell_type": "code",
      "source": [
        "#Calculate Classification Report\n",
        "print(\"Classification Report: \\n \", classification_report(y_test,y_predict_svm))"
      ],
      "metadata": {
        "id": "2ewjaB8Z8Lx-"
      },
      "execution_count": null,
      "outputs": []
    },
    {
      "cell_type": "code",
      "source": [
        "# create Streamlit app\n",
        "import streamlit as st\n",
        "st.title(\"Credit Card Fraud Detection Model\")\n",
        "st.write(\"Enter the following features to check if the transaction is legitimate or fraudulent:\")\n",
        "\n",
        "# create input fields for user to enter feature values\n",
        "input_df = st.text_input('Input All features')\n",
        "input_df_lst = input_df.split(',')\n",
        "# create a button to submit input and get prediction\n",
        "submit = st.button(\"Submit\")\n",
        "\n",
        "if submit:\n",
        "    # get input feature values\n",
        "    features = np.array(input_df_lst, dtype=np.float64)\n",
        "    # make prediction\n",
        "    prediction =LR_Model.predict(features.reshape(1,-1))\n",
        "    # display result\n",
        "    if prediction[0] == 0:\n",
        "        st.write(\"Legitimate transaction\")\n",
        "    else:\n",
        "        st.write(\"Fraudulent transaction\")"
      ],
      "metadata": {
        "id": "l-iQMx8Tz1oM",
        "colab": {
          "base_uri": "https://localhost:8080/"
        },
        "outputId": "4c16c33e-ab53-4b86-f3d6-bd1a70bd5b95"
      },
      "execution_count": null,
      "outputs": [
        {
          "output_type": "stream",
          "name": "stderr",
          "text": [
            "2023-12-01 09:21:20.735 \n",
            "  \u001b[33m\u001b[1mWarning:\u001b[0m to view this Streamlit app on a browser, run it with the following\n",
            "  command:\n",
            "\n",
            "    streamlit run /usr/local/lib/python3.10/dist-packages/colab_kernel_launcher.py [ARGUMENTS]\n"
          ]
        }
      ]
    },
    {
      "cell_type": "code",
      "source": [],
      "metadata": {
        "colab": {
          "base_uri": "https://localhost:8080/",
          "height": 140
        },
        "id": "LYXPk4jcAwMz",
        "outputId": "f010e6ac-25c4-4567-a631-3277d8b9d105"
      },
      "execution_count": null,
      "outputs": [
        {
          "output_type": "error",
          "ename": "SyntaxError",
          "evalue": "ignored",
          "traceback": [
            "\u001b[0;36m  File \u001b[0;32m\"<ipython-input-4-8dc0aff96fe6>\"\u001b[0;36m, line \u001b[0;32m1\u001b[0m\n\u001b[0;31m    streamlit run /usr/local/lib/python3.10/dist-packages/colab_kernel_launcher.py [ARGUMENTS]\u001b[0m\n\u001b[0m              ^\u001b[0m\n\u001b[0;31mSyntaxError\u001b[0m\u001b[0;31m:\u001b[0m invalid syntax\n"
          ]
        }
      ]
    },
    {
      "cell_type": "code",
      "source": [],
      "metadata": {
        "id": "xVrNSevEeIHp"
      },
      "execution_count": null,
      "outputs": []
    }
  ]
}